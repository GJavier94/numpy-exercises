{
  "nbformat": 4,
  "nbformat_minor": 0,
  "metadata": {
    "kernelspec": {
      "display_name": "Python 3",
      "language": "python",
      "name": "python3"
    },
    "language_info": {
      "codemirror_mode": {
        "name": "ipython",
        "version": 3
      },
      "file_extension": ".py",
      "mimetype": "text/x-python",
      "name": "python",
      "nbconvert_exporter": "python",
      "pygments_lexer": "ipython3",
      "version": "3.6.3"
    },
    "colab": {
      "name": "Numpy Ejercicio 02.ipynb",
      "provenance": [],
      "include_colab_link": true
    }
  },
  "cells": [
    {
      "cell_type": "markdown",
      "metadata": {
        "id": "view-in-github",
        "colab_type": "text"
      },
      "source": [
        "<a href=\"https://colab.research.google.com/github/GJavier94/numpy-exercises/blob/main/Numpy_Ejercicio_02.ipynb\" target=\"_parent\"><img src=\"https://colab.research.google.com/assets/colab-badge.svg\" alt=\"Open In Colab\"/></a>"
      ]
    },
    {
      "cell_type": "markdown",
      "metadata": {
        "id": "5pycDO96362y"
      },
      "source": [
        "# Ejercicios NumPy\n",
        "\n",
        "Esta serie de ejercicios tienen como objetivo que comprueben los conocimientos adquiridos. Inicial con ejercicios simples y se se complican gradualmente."
      ]
    },
    {
      "cell_type": "markdown",
      "metadata": {
        "id": "eyVsD_0Q3624"
      },
      "source": [
        "#### Importación de NumPy "
      ]
    },
    {
      "cell_type": "code",
      "metadata": {
        "collapsed": true,
        "id": "Ypn19owI3624"
      },
      "source": [
        ""
      ],
      "execution_count": null,
      "outputs": []
    },
    {
      "cell_type": "markdown",
      "metadata": {
        "id": "lYBcyEFn3625"
      },
      "source": [
        "#### Crear un arreglo de 5 ceros  "
      ]
    },
    {
      "cell_type": "code",
      "metadata": {
        "id": "oPn2sFCH3625",
        "outputId": "d29e1589-8070-411d-b431-b7b5c0d710e4"
      },
      "source": [
        ""
      ],
      "execution_count": null,
      "outputs": [
        {
          "output_type": "execute_result",
          "data": {
            "text/plain": [
              "array([ 0.,  0.,  0.,  0.,  0.])"
            ]
          },
          "metadata": {
            "tags": []
          },
          "execution_count": 2
        }
      ]
    },
    {
      "cell_type": "markdown",
      "metadata": {
        "id": "Zmi24mSA3626"
      },
      "source": [
        "#### Crear un arreglo de 10 unos"
      ]
    },
    {
      "cell_type": "code",
      "metadata": {
        "id": "DD2-Ysg93627",
        "outputId": "f0e46c3a-65f2-4773-ef39-3f498d05ec7b"
      },
      "source": [
        ""
      ],
      "execution_count": null,
      "outputs": [
        {
          "output_type": "execute_result",
          "data": {
            "text/plain": [
              "array([ 1.,  1.,  1.,  1.,  1.,  1.,  1.,  1.,  1.,  1.])"
            ]
          },
          "metadata": {
            "tags": []
          },
          "execution_count": 3
        }
      ]
    },
    {
      "cell_type": "markdown",
      "metadata": {
        "id": "bakilSTi3627"
      },
      "source": [
        "#### Crear un arreglo de 5  cincos "
      ]
    },
    {
      "cell_type": "code",
      "metadata": {
        "id": "xJ77YzSE3627",
        "outputId": "26679304-187f-4100-b984-3061c89fed48"
      },
      "source": [
        ""
      ],
      "execution_count": null,
      "outputs": [
        {
          "output_type": "execute_result",
          "data": {
            "text/plain": [
              "array([ 5.,  5.,  5.,  5.,  5.])"
            ]
          },
          "metadata": {
            "tags": []
          },
          "execution_count": 4
        }
      ]
    },
    {
      "cell_type": "markdown",
      "metadata": {
        "id": "5iFAmgxL3628"
      },
      "source": [
        "#### Crear un arreglo de números consecutivos empezando en 10 terminando en 30  "
      ]
    },
    {
      "cell_type": "code",
      "metadata": {
        "id": "stXpfQ_s3628",
        "outputId": "a02208ae-5794-4f7c-dd42-b656db2614df"
      },
      "source": [
        ""
      ],
      "execution_count": null,
      "outputs": [
        {
          "output_type": "execute_result",
          "data": {
            "text/plain": [
              "array([10, 11, 12, 13, 14, 15, 16, 17, 18, 19, 20, 21, 22, 23, 24, 25, 26,\n",
              "       27, 28, 29, 30])"
            ]
          },
          "metadata": {
            "tags": []
          },
          "execution_count": 6
        }
      ]
    },
    {
      "cell_type": "markdown",
      "metadata": {
        "id": "LEn3oa6_3628"
      },
      "source": [
        "#### Crear un arreglo de todos los  números pares  empezando en 10 terminando en 30  "
      ]
    },
    {
      "cell_type": "code",
      "metadata": {
        "id": "JPMVuLy73629",
        "outputId": "10a8fa0a-f2f7-45bc-d659-8a7dfd008741"
      },
      "source": [
        ""
      ],
      "execution_count": null,
      "outputs": [
        {
          "output_type": "execute_result",
          "data": {
            "text/plain": [
              "array([10, 12, 14, 16, 18, 20, 22, 24, 26, 28, 30])"
            ]
          },
          "metadata": {
            "tags": []
          },
          "execution_count": 7
        }
      ]
    },
    {
      "cell_type": "markdown",
      "metadata": {
        "id": "pb3KMYQP3629"
      },
      "source": [
        "#### Crear  un matriz  de 3x3  formada por números consecutivos del 0 al 8 "
      ]
    },
    {
      "cell_type": "code",
      "metadata": {
        "id": "iE1gaUKh3629",
        "outputId": "df53cec2-8c75-411b-ab12-4901909cc766"
      },
      "source": [
        ""
      ],
      "execution_count": null,
      "outputs": [
        {
          "output_type": "execute_result",
          "data": {
            "text/plain": [
              "array([[0, 1, 2],\n",
              "       [3, 4, 5],\n",
              "       [6, 7, 8]])"
            ]
          },
          "metadata": {
            "tags": []
          },
          "execution_count": 8
        }
      ]
    },
    {
      "cell_type": "markdown",
      "metadata": {
        "id": "8h5CaY7k362-"
      },
      "source": [
        "#### Crear una matriz identidad  de 5x5"
      ]
    },
    {
      "cell_type": "code",
      "metadata": {
        "id": "p-iZRQZm362-",
        "outputId": "0d2490f2-492e-4a0e-9876-3dc767ae9df2"
      },
      "source": [
        ""
      ],
      "execution_count": null,
      "outputs": [
        {
          "output_type": "execute_result",
          "data": {
            "text/plain": [
              "array([[ 1.,  0.,  0.,  0.,  0.],\n",
              "       [ 0.,  1.,  0.,  0.,  0.],\n",
              "       [ 0.,  0.,  1.,  0.,  0.],\n",
              "       [ 0.,  0.,  0.,  1.,  0.],\n",
              "       [ 0.,  0.,  0.,  0.,  1.]])"
            ]
          },
          "metadata": {
            "tags": []
          },
          "execution_count": 9
        }
      ]
    },
    {
      "cell_type": "markdown",
      "metadata": {
        "id": "D5CF3leO362-"
      },
      "source": [
        "#### Crear un número aleatorio entre 0 y 10"
      ]
    },
    {
      "cell_type": "code",
      "metadata": {
        "id": "NXdZhRlf362-",
        "outputId": "d7896ef3-ebd0-44b5-a4e0-20cb346262ff"
      },
      "source": [
        ""
      ],
      "execution_count": null,
      "outputs": [
        {
          "output_type": "execute_result",
          "data": {
            "text/plain": [
              "array([ 6.2149434])"
            ]
          },
          "metadata": {
            "tags": []
          },
          "execution_count": 11
        }
      ]
    },
    {
      "cell_type": "markdown",
      "metadata": {
        "id": "O24Euo7e362_"
      },
      "source": [
        "#### Generen un arreglo de 20 elementos aleatorios  usando una distribución normal estándar "
      ]
    },
    {
      "cell_type": "code",
      "metadata": {
        "id": "lNGFCq8y362_",
        "outputId": "66c2df86-6fe4-4d32-b563-f2809487185a"
      },
      "source": [
        ""
      ],
      "execution_count": null,
      "outputs": [
        {
          "output_type": "execute_result",
          "data": {
            "text/plain": [
              "array([-0.39175384,  0.29573042,  0.21482781, -0.48937415,  0.43726674,\n",
              "       -0.86293036, -0.39746738,  1.99048352,  0.67114489, -0.17946907,\n",
              "        0.09744224, -0.2425311 , -0.7520676 , -0.66786108,  1.04266691,\n",
              "       -1.28872651, -0.37703428, -0.89623781,  0.68606477, -0.01731618])"
            ]
          },
          "metadata": {
            "tags": []
          },
          "execution_count": 12
        }
      ]
    },
    {
      "cell_type": "markdown",
      "metadata": {
        "id": "qb05kjqt362_"
      },
      "source": [
        "#### Crear la siguiente matriz \n",
        "\n",
        "array([[ 0.01,  0.02,  0.03,  0.04,  0.05,  0.06,  0.07,  0.08,  0.09,  0.1 ],\n",
        "       [ 0.11,  0.12,  0.13,  0.14,  0.15,  0.16,  0.17,  0.18,  0.19,  0.2 ],\n",
        "       [ 0.21,  0.22,  0.23,  0.24,  0.25,  0.26,  0.27,  0.28,  0.29,  0.3 ],\n",
        "       [ 0.31,  0.32,  0.33,  0.34,  0.35,  0.36,  0.37,  0.38,  0.39,  0.4 ],\n",
        "       [ 0.41,  0.42,  0.43,  0.44,  0.45,  0.46,  0.47,  0.48,  0.49,  0.5 ],\n",
        "       [ 0.51,  0.52,  0.53,  0.54,  0.55,  0.56,  0.57,  0.58,  0.59,  0.6 ],\n",
        "       [ 0.61,  0.62,  0.63,  0.64,  0.65,  0.66,  0.67,  0.68,  0.69,  0.7 ],\n",
        "       [ 0.71,  0.72,  0.73,  0.74,  0.75,  0.76,  0.77,  0.78,  0.79,  0.8 ],\n",
        "       [ 0.81,  0.82,  0.83,  0.84,  0.85,  0.86,  0.87,  0.88,  0.89,  0.9 ],\n",
        "       [ 0.91,  0.92,  0.93,  0.94,  0.95,  0.96,  0.97,  0.98,  0.99,  1.  ]])"
      ]
    },
    {
      "cell_type": "code",
      "metadata": {
        "id": "PnuCFVxH363A",
        "outputId": "a41b7f8d-1ca7-44cb-f323-c28d3322e7a4"
      },
      "source": [
        ""
      ],
      "execution_count": null,
      "outputs": [
        {
          "output_type": "execute_result",
          "data": {
            "text/plain": [
              "array([[ 0.01,  0.02,  0.03,  0.04,  0.05,  0.06,  0.07,  0.08,  0.09,  0.1 ],\n",
              "       [ 0.11,  0.12,  0.13,  0.14,  0.15,  0.16,  0.17,  0.18,  0.19,  0.2 ],\n",
              "       [ 0.21,  0.22,  0.23,  0.24,  0.25,  0.26,  0.27,  0.28,  0.29,  0.3 ],\n",
              "       [ 0.31,  0.32,  0.33,  0.34,  0.35,  0.36,  0.37,  0.38,  0.39,  0.4 ],\n",
              "       [ 0.41,  0.42,  0.43,  0.44,  0.45,  0.46,  0.47,  0.48,  0.49,  0.5 ],\n",
              "       [ 0.51,  0.52,  0.53,  0.54,  0.55,  0.56,  0.57,  0.58,  0.59,  0.6 ],\n",
              "       [ 0.61,  0.62,  0.63,  0.64,  0.65,  0.66,  0.67,  0.68,  0.69,  0.7 ],\n",
              "       [ 0.71,  0.72,  0.73,  0.74,  0.75,  0.76,  0.77,  0.78,  0.79,  0.8 ],\n",
              "       [ 0.81,  0.82,  0.83,  0.84,  0.85,  0.86,  0.87,  0.88,  0.89,  0.9 ],\n",
              "       [ 0.91,  0.92,  0.93,  0.94,  0.95,  0.96,  0.97,  0.98,  0.99,  1.  ]])"
            ]
          },
          "metadata": {
            "tags": []
          },
          "execution_count": 13
        }
      ]
    },
    {
      "cell_type": "markdown",
      "metadata": {
        "id": "ocs72ZdZ363A"
      },
      "source": [
        "#### Crear un arreglo de 20 elementos equidistantes entre los valores de 0 a 1 "
      ]
    },
    {
      "cell_type": "code",
      "metadata": {
        "id": "QuLepHpv363A",
        "outputId": "6f2bedb1-ac1a-4d9a-e69f-51b2719cb3c6"
      },
      "source": [
        ""
      ],
      "execution_count": null,
      "outputs": [
        {
          "output_type": "execute_result",
          "data": {
            "text/plain": [
              "array([ 0.        ,  0.05263158,  0.10526316,  0.15789474,  0.21052632,\n",
              "        0.26315789,  0.31578947,  0.36842105,  0.42105263,  0.47368421,\n",
              "        0.52631579,  0.57894737,  0.63157895,  0.68421053,  0.73684211,\n",
              "        0.78947368,  0.84210526,  0.89473684,  0.94736842,  1.        ])"
            ]
          },
          "metadata": {
            "tags": []
          },
          "execution_count": 14
        }
      ]
    },
    {
      "cell_type": "markdown",
      "metadata": {
        "id": "Kz7JsxTw363D"
      },
      "source": [
        "## Indexación en arreglos numpy \n",
        "\n",
        "En esta sección se evaluará su conocimiento para obtener pociones de la matriz generada, para replicarlo tienen que usar exclusivamente  indexación "
      ]
    },
    {
      "cell_type": "code",
      "metadata": {
        "id": "sNESugdI363D",
        "outputId": "7b03238c-057c-49fa-815e-e935a97116d8"
      },
      "source": [
        ""
      ],
      "execution_count": null,
      "outputs": [
        {
          "output_type": "execute_result",
          "data": {
            "text/plain": [
              "array([[ 1,  2,  3,  4,  5],\n",
              "       [ 6,  7,  8,  9, 10],\n",
              "       [11, 12, 13, 14, 15],\n",
              "       [16, 17, 18, 19, 20],\n",
              "       [21, 22, 23, 24, 25]])"
            ]
          },
          "metadata": {
            "tags": []
          },
          "execution_count": 15
        }
      ]
    },
    {
      "cell_type": "markdown",
      "metadata": {
        "collapsed": true,
        "id": "p0rEJrBS363D"
      },
      "source": [
        "Extraer la siguiente matriz: \n",
        "array([[12, 13, 14, 15],\n",
        "       [17, 18, 19, 20],\n",
        "       [22, 23, 24, 25]])"
      ]
    },
    {
      "cell_type": "code",
      "metadata": {
        "id": "SbAT5vRO363E",
        "outputId": "beee5788-9151-4450-c57c-d6dad3b7ee58"
      },
      "source": [
        ""
      ],
      "execution_count": null,
      "outputs": [
        {
          "output_type": "execute_result",
          "data": {
            "text/plain": [
              "array([[12, 13, 14, 15],\n",
              "       [17, 18, 19, 20],\n",
              "       [22, 23, 24, 25]])"
            ]
          },
          "metadata": {
            "tags": []
          },
          "execution_count": 17
        }
      ]
    },
    {
      "cell_type": "markdown",
      "metadata": {
        "collapsed": true,
        "id": "AW-ItPND363E"
      },
      "source": [
        "Extraer la siguiente celda:  15"
      ]
    },
    {
      "cell_type": "code",
      "metadata": {
        "id": "zBlWcUy3363E",
        "outputId": "7a2bbf79-0220-4786-d3fc-12a4a8c4e1e7"
      },
      "source": [
        "mat[2,4]"
      ],
      "execution_count": null,
      "outputs": [
        {
          "output_type": "execute_result",
          "data": {
            "text/plain": [
              "15"
            ]
          },
          "metadata": {
            "tags": []
          },
          "execution_count": 19
        }
      ]
    },
    {
      "cell_type": "markdown",
      "metadata": {
        "collapsed": true,
        "id": "SrYzr8zS363E"
      },
      "source": [
        "Extraer la siguiente matriz: \n",
        "    array([[ 2],\n",
        "       [ 7],\n",
        "       [12]])"
      ]
    },
    {
      "cell_type": "code",
      "metadata": {
        "id": "fHc6ZS8z363F",
        "outputId": "88e3491c-f578-420d-e718-5aba79274eaa"
      },
      "source": [
        ""
      ],
      "execution_count": null,
      "outputs": [
        {
          "output_type": "execute_result",
          "data": {
            "text/plain": [
              "array([[ 2],\n",
              "       [ 7],\n",
              "       [12]])"
            ]
          },
          "metadata": {
            "tags": []
          },
          "execution_count": 20
        }
      ]
    },
    {
      "cell_type": "markdown",
      "metadata": {
        "collapsed": true,
        "id": "ScIX1Xzw363F"
      },
      "source": [
        "Extraer la siguiente matriz:  array([21, 22, 23, 24, 25])"
      ]
    },
    {
      "cell_type": "code",
      "metadata": {
        "id": "6GhUwky8363F",
        "outputId": "15f485af-f94d-41b5-fef6-3bd9df623b77"
      },
      "source": [
        ""
      ],
      "execution_count": null,
      "outputs": [
        {
          "output_type": "execute_result",
          "data": {
            "text/plain": [
              "array([21, 22, 23, 24, 25])"
            ]
          },
          "metadata": {
            "tags": []
          },
          "execution_count": 21
        }
      ]
    },
    {
      "cell_type": "markdown",
      "metadata": {
        "collapsed": true,
        "id": "j8ulU-nG363F"
      },
      "source": [
        "Extraer la siguiente matriz: \n",
        "    array([[16, 17, 18, 19, 20],\n",
        "       [21, 22, 23, 24, 25]])"
      ]
    },
    {
      "cell_type": "code",
      "metadata": {
        "id": "OgkCi2tz363F",
        "outputId": "03a7a27e-f71d-4283-fbbf-c23f021afa23"
      },
      "source": [
        ""
      ],
      "execution_count": null,
      "outputs": [
        {
          "output_type": "execute_result",
          "data": {
            "text/plain": [
              "array([[16, 17, 18, 19, 20],\n",
              "       [21, 22, 23, 24, 25]])"
            ]
          },
          "metadata": {
            "tags": []
          },
          "execution_count": 22
        }
      ]
    },
    {
      "cell_type": "markdown",
      "metadata": {
        "id": "WOiiBVLR363G"
      },
      "source": [
        "### Operaciones adiciones \n",
        "\n",
        "No todo puede ser cubierto por el curso sin embargo existen funciones para hacerlo [funciones universales](http://docs.scipy.org/doc/numpy/reference/ufuncs.html)\n"
      ]
    },
    {
      "cell_type": "markdown",
      "metadata": {
        "id": "98lRgd4w363G"
      },
      "source": [
        "Obtener la suma de todos los valores en la matriz **mat**"
      ]
    },
    {
      "cell_type": "code",
      "metadata": {
        "id": "UidokRAM363G",
        "outputId": "1a02cfc1-8ea1-44de-c70a-8f40d9f068b8"
      },
      "source": [
        ""
      ],
      "execution_count": null,
      "outputs": [
        {
          "output_type": "execute_result",
          "data": {
            "text/plain": [
              "325"
            ]
          },
          "metadata": {
            "tags": []
          },
          "execution_count": 23
        }
      ]
    },
    {
      "cell_type": "markdown",
      "metadata": {
        "id": "VyhoKv_N363G"
      },
      "source": [
        "Obtener la desviación estándar de la matriz **mat**"
      ]
    },
    {
      "cell_type": "code",
      "metadata": {
        "id": "IaDJvLdu363H",
        "outputId": "eea0b96e-0892-4119-f5fb-d0ae85f08e84"
      },
      "source": [
        ""
      ],
      "execution_count": null,
      "outputs": [
        {
          "output_type": "execute_result",
          "data": {
            "text/plain": [
              "7.2111025509279782"
            ]
          },
          "metadata": {
            "tags": []
          },
          "execution_count": 26
        }
      ]
    },
    {
      "cell_type": "markdown",
      "metadata": {
        "id": "cj8frn9k363H"
      },
      "source": [
        "Obtener la suma de cada una de las columnas en  la matriz **mat**"
      ]
    },
    {
      "cell_type": "code",
      "metadata": {
        "id": "6ECa_eWs363H",
        "outputId": "54a2b407-da20-4a5d-87de-258f66a31aaf"
      },
      "source": [
        ""
      ],
      "execution_count": null,
      "outputs": [
        {
          "output_type": "execute_result",
          "data": {
            "text/plain": [
              "array([55, 60, 65, 70, 75])"
            ]
          },
          "metadata": {
            "tags": []
          },
          "execution_count": 27
        }
      ]
    },
    {
      "cell_type": "markdown",
      "metadata": {
        "collapsed": true,
        "id": "R15vKE5m363H"
      },
      "source": [
        "# Buen trabajo "
      ]
    },
    {
      "cell_type": "code",
      "metadata": {
        "collapsed": true,
        "id": "WpYr31nh363I"
      },
      "source": [
        ""
      ],
      "execution_count": null,
      "outputs": []
    }
  ]
}