{
  "nbformat": 4,
  "nbformat_minor": 0,
  "metadata": {
    "kernelspec": {
      "display_name": "Python 3",
      "language": "python",
      "name": "python3"
    },
    "language_info": {
      "codemirror_mode": {
        "name": "ipython",
        "version": 3
      },
      "file_extension": ".py",
      "mimetype": "text/x-python",
      "name": "python",
      "nbconvert_exporter": "python",
      "pygments_lexer": "ipython3",
      "version": "3.6.3"
    },
    "colab": {
      "name": "Copia de Numpy Ejercicio 02.ipynb",
      "provenance": [],
      "collapsed_sections": [],
      "include_colab_link": true
    }
  },
  "cells": [
    {
      "cell_type": "markdown",
      "metadata": {
        "id": "view-in-github",
        "colab_type": "text"
      },
      "source": [
        "<a href=\"https://colab.research.google.com/github/GJavier94/numpy-exercises/blob/main/Copia_de_Numpy_Ejercicio_02.ipynb\" target=\"_parent\"><img src=\"https://colab.research.google.com/assets/colab-badge.svg\" alt=\"Open In Colab\"/></a>"
      ]
    },
    {
      "cell_type": "markdown",
      "metadata": {
        "id": "xu_aED3zW3md"
      },
      "source": [
        "# Ejercicios NumPy\n",
        "\n",
        "Esta serie de ejercicios tienen como objetivo que comprueben los conocimientos adquiridos. Inicial con ejercicios simples y se se complican gradualmente."
      ]
    },
    {
      "cell_type": "markdown",
      "metadata": {
        "id": "lEEWtAYNW3mi"
      },
      "source": [
        "#### Importación de NumPy "
      ]
    },
    {
      "cell_type": "code",
      "metadata": {
        "id": "kw6Q-g8TW3mm"
      },
      "source": [
        "import numpy as np"
      ],
      "execution_count": null,
      "outputs": []
    },
    {
      "cell_type": "markdown",
      "metadata": {
        "id": "6wQtEcdEW3mz"
      },
      "source": [
        "#### Crear un arreglo de 5 ceros  "
      ]
    },
    {
      "cell_type": "code",
      "metadata": {
        "id": "kPxzm8cJW3m0",
        "colab": {
          "base_uri": "https://localhost:8080/"
        },
        "outputId": "ba15aeb9-6847-45a8-ea6c-fccc865feee1"
      },
      "source": [
        "np.zeros(5)"
      ],
      "execution_count": null,
      "outputs": [
        {
          "output_type": "execute_result",
          "data": {
            "text/plain": [
              "array([0., 0., 0., 0., 0.])"
            ]
          },
          "metadata": {
            "tags": []
          },
          "execution_count": 2
        }
      ]
    },
    {
      "cell_type": "markdown",
      "metadata": {
        "id": "UdZsQcP5W3m9"
      },
      "source": [
        "#### Crear un arreglo de 10 unos"
      ]
    },
    {
      "cell_type": "code",
      "metadata": {
        "id": "j67WUltGW3m-",
        "colab": {
          "base_uri": "https://localhost:8080/"
        },
        "outputId": "3409b376-af35-49f4-e556-2527c0f3156d"
      },
      "source": [
        "np.ones(10)"
      ],
      "execution_count": null,
      "outputs": [
        {
          "output_type": "execute_result",
          "data": {
            "text/plain": [
              "array([1., 1., 1., 1., 1., 1., 1., 1., 1., 1.])"
            ]
          },
          "metadata": {
            "tags": []
          },
          "execution_count": 3
        }
      ]
    },
    {
      "cell_type": "markdown",
      "metadata": {
        "id": "rAvH2Ie7W3nD"
      },
      "source": [
        "#### Crear un arreglo de 5  cincos "
      ]
    },
    {
      "cell_type": "code",
      "metadata": {
        "id": "7amZrbuUW3nE",
        "colab": {
          "base_uri": "https://localhost:8080/"
        },
        "outputId": "1b23b68f-1bcc-487c-fd24-a3a6f8afc6fa"
      },
      "source": [
        "np.full(5, 5)"
      ],
      "execution_count": null,
      "outputs": [
        {
          "output_type": "execute_result",
          "data": {
            "text/plain": [
              "array([5, 5, 5, 5, 5])"
            ]
          },
          "metadata": {
            "tags": []
          },
          "execution_count": 4
        }
      ]
    },
    {
      "cell_type": "markdown",
      "metadata": {
        "id": "HP0S-F27W3nL"
      },
      "source": [
        "#### Crear un arreglo de números consecutivos empezando en 10 terminando en 30  "
      ]
    },
    {
      "cell_type": "code",
      "metadata": {
        "id": "wtYapQV2W3nN",
        "colab": {
          "base_uri": "https://localhost:8080/"
        },
        "outputId": "fa65b4a9-10c7-44e3-a49f-28fb4ef469fe"
      },
      "source": [
        "np.arange(10,31)"
      ],
      "execution_count": null,
      "outputs": [
        {
          "output_type": "execute_result",
          "data": {
            "text/plain": [
              "array([10, 11, 12, 13, 14, 15, 16, 17, 18, 19, 20, 21, 22, 23, 24, 25, 26,\n",
              "       27, 28, 29, 30])"
            ]
          },
          "metadata": {
            "tags": []
          },
          "execution_count": 6
        }
      ]
    },
    {
      "cell_type": "markdown",
      "metadata": {
        "id": "cfKH134yW3nS"
      },
      "source": [
        "#### Crear un arreglo de todos los  números pares  empezando en 10 terminando en 30  "
      ]
    },
    {
      "cell_type": "code",
      "metadata": {
        "id": "jSsxU-Z1W3nT",
        "colab": {
          "base_uri": "https://localhost:8080/"
        },
        "outputId": "804767ae-ad4c-474a-8fb6-99110e57cd93"
      },
      "source": [
        "np.arange(10,31,2)"
      ],
      "execution_count": null,
      "outputs": [
        {
          "output_type": "execute_result",
          "data": {
            "text/plain": [
              "array([10, 12, 14, 16, 18, 20, 22, 24, 26, 28, 30])"
            ]
          },
          "metadata": {
            "tags": []
          },
          "execution_count": 8
        }
      ]
    },
    {
      "cell_type": "markdown",
      "metadata": {
        "id": "OpLt4O3zW3nZ"
      },
      "source": [
        "#### Crear  un matriz  de 3x3  formada por números consecutivos del 0 al 8 "
      ]
    },
    {
      "cell_type": "code",
      "metadata": {
        "id": "Wb6mH4EEW3na",
        "colab": {
          "base_uri": "https://localhost:8080/"
        },
        "outputId": "97c7361f-6f9d-4b01-b0d0-a3434ae3e89e"
      },
      "source": [
        "np.arange(0,9).reshape(3,3)"
      ],
      "execution_count": null,
      "outputs": [
        {
          "output_type": "execute_result",
          "data": {
            "text/plain": [
              "array([[0, 1, 2],\n",
              "       [3, 4, 5],\n",
              "       [6, 7, 8]])"
            ]
          },
          "metadata": {
            "tags": []
          },
          "execution_count": 11
        }
      ]
    },
    {
      "cell_type": "markdown",
      "metadata": {
        "id": "oduJfys4W3ne"
      },
      "source": [
        "#### Crear una matriz identidad  de 5x5"
      ]
    },
    {
      "cell_type": "code",
      "metadata": {
        "id": "_yqE0LpDW3nf",
        "colab": {
          "base_uri": "https://localhost:8080/"
        },
        "outputId": "5202183c-a038-4278-ccf2-e4b33e0654d7"
      },
      "source": [
        "np.eye(5,5)"
      ],
      "execution_count": null,
      "outputs": [
        {
          "output_type": "execute_result",
          "data": {
            "text/plain": [
              "array([[1., 0., 0., 0., 0.],\n",
              "       [0., 1., 0., 0., 0.],\n",
              "       [0., 0., 1., 0., 0.],\n",
              "       [0., 0., 0., 1., 0.],\n",
              "       [0., 0., 0., 0., 1.]])"
            ]
          },
          "metadata": {
            "tags": []
          },
          "execution_count": 13
        }
      ]
    },
    {
      "cell_type": "markdown",
      "metadata": {
        "id": "8mJ9ymZUW3np"
      },
      "source": [
        "#### Crear un número aleatorio entre 0 y 10"
      ]
    },
    {
      "cell_type": "code",
      "metadata": {
        "id": "-Tr8D7B1W3nq",
        "colab": {
          "base_uri": "https://localhost:8080/"
        },
        "outputId": "9291960a-4694-4480-a072-749997da567b"
      },
      "source": [
        "np.random.randint(0,11)"
      ],
      "execution_count": null,
      "outputs": [
        {
          "output_type": "execute_result",
          "data": {
            "text/plain": [
              "1"
            ]
          },
          "metadata": {
            "tags": []
          },
          "execution_count": 30
        }
      ]
    },
    {
      "cell_type": "markdown",
      "metadata": {
        "id": "_30lj9mvW3nt"
      },
      "source": [
        "#### Generen un arreglo de 20 elementos aleatorios  usando una distribución normal estándar "
      ]
    },
    {
      "cell_type": "code",
      "metadata": {
        "id": "Ay7QbkPwW3nu",
        "colab": {
          "base_uri": "https://localhost:8080/"
        },
        "outputId": "770101b5-64ab-4e86-ebb3-bb95b50f918c"
      },
      "source": [
        "np.random.randn(20)"
      ],
      "execution_count": null,
      "outputs": [
        {
          "output_type": "execute_result",
          "data": {
            "text/plain": [
              "array([ 1.04018174, -0.35456406, -0.23410756,  0.64919138,  1.03405613,\n",
              "        0.73353625,  0.66460112,  0.01433915,  0.688808  , -1.107205  ,\n",
              "       -1.35205583, -1.20426879,  0.73147282,  0.39813431, -0.37713096,\n",
              "       -0.67348529, -0.76117795, -1.41306569,  1.24039232, -0.72122761])"
            ]
          },
          "metadata": {
            "tags": []
          },
          "execution_count": 33
        }
      ]
    },
    {
      "cell_type": "markdown",
      "metadata": {
        "id": "SrTPT4ZzW3n0"
      },
      "source": [
        "#### Crear la siguiente matriz \n",
        "\n",
        "array([[ 0.01,  0.02,  0.03,  0.04,  0.05,  0.06,  0.07,  0.08,  0.09,  0.1 ],\n",
        "       [ 0.11,  0.12,  0.13,  0.14,  0.15,  0.16,  0.17,  0.18,  0.19,  0.2 ],\n",
        "       [ 0.21,  0.22,  0.23,  0.24,  0.25,  0.26,  0.27,  0.28,  0.29,  0.3 ],\n",
        "       [ 0.31,  0.32,  0.33,  0.34,  0.35,  0.36,  0.37,  0.38,  0.39,  0.4 ],\n",
        "       [ 0.41,  0.42,  0.43,  0.44,  0.45,  0.46,  0.47,  0.48,  0.49,  0.5 ],\n",
        "       [ 0.51,  0.52,  0.53,  0.54,  0.55,  0.56,  0.57,  0.58,  0.59,  0.6 ],\n",
        "       [ 0.61,  0.62,  0.63,  0.64,  0.65,  0.66,  0.67,  0.68,  0.69,  0.7 ],\n",
        "       [ 0.71,  0.72,  0.73,  0.74,  0.75,  0.76,  0.77,  0.78,  0.79,  0.8 ],\n",
        "       [ 0.81,  0.82,  0.83,  0.84,  0.85,  0.86,  0.87,  0.88,  0.89,  0.9 ],\n",
        "       [ 0.91,  0.92,  0.93,  0.94,  0.95,  0.96,  0.97,  0.98,  0.99,  1.  ]])"
      ]
    },
    {
      "cell_type": "code",
      "metadata": {
        "id": "f2K9OmJtW3n0",
        "colab": {
          "base_uri": "https://localhost:8080/"
        },
        "outputId": "e0c3f376-441d-475d-e23a-3326cbd1ea3d"
      },
      "source": [
        "np.arange(0.01,1.01,0.01).reshape(10,10)"
      ],
      "execution_count": null,
      "outputs": [
        {
          "output_type": "execute_result",
          "data": {
            "text/plain": [
              "array([[0.01, 0.02, 0.03, 0.04, 0.05, 0.06, 0.07, 0.08, 0.09, 0.1 ],\n",
              "       [0.11, 0.12, 0.13, 0.14, 0.15, 0.16, 0.17, 0.18, 0.19, 0.2 ],\n",
              "       [0.21, 0.22, 0.23, 0.24, 0.25, 0.26, 0.27, 0.28, 0.29, 0.3 ],\n",
              "       [0.31, 0.32, 0.33, 0.34, 0.35, 0.36, 0.37, 0.38, 0.39, 0.4 ],\n",
              "       [0.41, 0.42, 0.43, 0.44, 0.45, 0.46, 0.47, 0.48, 0.49, 0.5 ],\n",
              "       [0.51, 0.52, 0.53, 0.54, 0.55, 0.56, 0.57, 0.58, 0.59, 0.6 ],\n",
              "       [0.61, 0.62, 0.63, 0.64, 0.65, 0.66, 0.67, 0.68, 0.69, 0.7 ],\n",
              "       [0.71, 0.72, 0.73, 0.74, 0.75, 0.76, 0.77, 0.78, 0.79, 0.8 ],\n",
              "       [0.81, 0.82, 0.83, 0.84, 0.85, 0.86, 0.87, 0.88, 0.89, 0.9 ],\n",
              "       [0.91, 0.92, 0.93, 0.94, 0.95, 0.96, 0.97, 0.98, 0.99, 1.  ]])"
            ]
          },
          "metadata": {
            "tags": []
          },
          "execution_count": 35
        }
      ]
    },
    {
      "cell_type": "markdown",
      "metadata": {
        "id": "IfTgE-U0W3n5"
      },
      "source": [
        "#### Crear un arreglo de 20 elementos equidistantes entre los valores de 0 a 1 "
      ]
    },
    {
      "cell_type": "code",
      "metadata": {
        "id": "-oQruwULW3n6",
        "colab": {
          "base_uri": "https://localhost:8080/"
        },
        "outputId": "5385e2e5-2778-41f3-8e75-38958ba2349d"
      },
      "source": [
        "np.linspace(0,1,20)"
      ],
      "execution_count": null,
      "outputs": [
        {
          "output_type": "execute_result",
          "data": {
            "text/plain": [
              "array([0.        , 0.05263158, 0.10526316, 0.15789474, 0.21052632,\n",
              "       0.26315789, 0.31578947, 0.36842105, 0.42105263, 0.47368421,\n",
              "       0.52631579, 0.57894737, 0.63157895, 0.68421053, 0.73684211,\n",
              "       0.78947368, 0.84210526, 0.89473684, 0.94736842, 1.        ])"
            ]
          },
          "metadata": {
            "tags": []
          },
          "execution_count": 39
        }
      ]
    },
    {
      "cell_type": "markdown",
      "metadata": {
        "id": "pbt_10t6W3n9"
      },
      "source": [
        "## Indexación en arreglos numpy \n",
        "\n",
        "En esta sección se evaluará su conocimiento para obtener pociones de la matriz generada, para replicarlo tienen que usar exclusivamente  indexación "
      ]
    },
    {
      "cell_type": "code",
      "metadata": {
        "id": "dsy2tCsGW3n-",
        "colab": {
          "base_uri": "https://localhost:8080/"
        },
        "outputId": "90b2bae4-bae4-4758-b5bb-1e66a2d2196d"
      },
      "source": [
        "arr = np.arange(1,26).reshape(5,5)\n",
        "print(arr)"
      ],
      "execution_count": null,
      "outputs": [
        {
          "output_type": "stream",
          "text": [
            "[[ 1  2  3  4  5]\n",
            " [ 6  7  8  9 10]\n",
            " [11 12 13 14 15]\n",
            " [16 17 18 19 20]\n",
            " [21 22 23 24 25]]\n"
          ],
          "name": "stdout"
        }
      ]
    },
    {
      "cell_type": "markdown",
      "metadata": {
        "collapsed": true,
        "id": "M1JIwEU1W3oC"
      },
      "source": [
        "Extraer la siguiente matriz: \n",
        "array([[12, 13, 14, 15],\n",
        "       [17, 18, 19, 20],\n",
        "       [22, 23, 24, 25]])"
      ]
    },
    {
      "cell_type": "code",
      "metadata": {
        "id": "2CTdoFNhW3oD",
        "colab": {
          "base_uri": "https://localhost:8080/"
        },
        "outputId": "0b02977f-65b1-4cba-8c44-3d4989f6e9b8"
      },
      "source": [
        "arr[-3:,1:]\n"
      ],
      "execution_count": null,
      "outputs": [
        {
          "output_type": "execute_result",
          "data": {
            "text/plain": [
              "array([[12, 13, 14, 15],\n",
              "       [17, 18, 19, 20],\n",
              "       [22, 23, 24, 25]])"
            ]
          },
          "metadata": {
            "tags": []
          },
          "execution_count": 63
        }
      ]
    },
    {
      "cell_type": "markdown",
      "metadata": {
        "collapsed": true,
        "id": "2Uzfrp_BW3oH"
      },
      "source": [
        "Extraer la siguiente celda:  15"
      ]
    },
    {
      "cell_type": "code",
      "metadata": {
        "id": "W2WKDifdW3oI",
        "colab": {
          "base_uri": "https://localhost:8080/"
        },
        "outputId": "e08c4c2e-dd1e-470d-d504-71816568692b"
      },
      "source": [
        "arr[2,4]"
      ],
      "execution_count": null,
      "outputs": [
        {
          "output_type": "execute_result",
          "data": {
            "text/plain": [
              "15"
            ]
          },
          "metadata": {
            "tags": []
          },
          "execution_count": 64
        }
      ]
    },
    {
      "cell_type": "markdown",
      "metadata": {
        "collapsed": true,
        "id": "DxdgeEIgW3oN"
      },
      "source": [
        "Extraer la siguiente matriz: \n",
        "    array([[ 2],\n",
        "       [ 7],\n",
        "       [12]])"
      ]
    },
    {
      "cell_type": "code",
      "metadata": {
        "id": "yjYfgCsjW3oO",
        "colab": {
          "base_uri": "https://localhost:8080/"
        },
        "outputId": "486edc43-3916-4013-f7c4-68631d3b86a7"
      },
      "source": [
        "arr[:3,1:2]"
      ],
      "execution_count": null,
      "outputs": [
        {
          "output_type": "execute_result",
          "data": {
            "text/plain": [
              "array([[ 2],\n",
              "       [ 7],\n",
              "       [12]])"
            ]
          },
          "metadata": {
            "tags": []
          },
          "execution_count": 68
        }
      ]
    },
    {
      "cell_type": "markdown",
      "metadata": {
        "collapsed": true,
        "id": "_fX19UdoW3oR"
      },
      "source": [
        "Extraer la siguiente matriz:  array([21, 22, 23, 24, 25])"
      ]
    },
    {
      "cell_type": "code",
      "metadata": {
        "id": "FZ-AHSAsW3oR",
        "colab": {
          "base_uri": "https://localhost:8080/"
        },
        "outputId": "5f66b021-b5ef-4987-e237-ddf221128ebf"
      },
      "source": [
        "arr[arr.shape[1] -1]"
      ],
      "execution_count": null,
      "outputs": [
        {
          "output_type": "execute_result",
          "data": {
            "text/plain": [
              "array([21, 22, 23, 24, 25])"
            ]
          },
          "metadata": {
            "tags": []
          },
          "execution_count": 74
        }
      ]
    },
    {
      "cell_type": "markdown",
      "metadata": {
        "collapsed": true,
        "id": "b2-f7bVXW3oU"
      },
      "source": [
        "Extraer la siguiente matriz: \n",
        "    array([[16, 17, 18, 19, 20],\n",
        "       [21, 22, 23, 24, 25]])"
      ]
    },
    {
      "cell_type": "code",
      "metadata": {
        "id": "y_HosUsiW3oV",
        "colab": {
          "base_uri": "https://localhost:8080/"
        },
        "outputId": "50d753cc-51e0-4c8e-ac53-9f3d41e739c8"
      },
      "source": [
        "arr[arr.shape[1] -2 :]"
      ],
      "execution_count": null,
      "outputs": [
        {
          "output_type": "execute_result",
          "data": {
            "text/plain": [
              "array([[16, 17, 18, 19, 20],\n",
              "       [21, 22, 23, 24, 25]])"
            ]
          },
          "metadata": {
            "tags": []
          },
          "execution_count": 76
        }
      ]
    },
    {
      "cell_type": "markdown",
      "metadata": {
        "id": "aPKJYvs9W3oY"
      },
      "source": [
        "### Operaciones adiciones \n",
        "\n",
        "No todo puede ser cubierto por el curso sin embargo existen funciones para hacerlo [funciones universales](http://docs.scipy.org/doc/numpy/reference/ufuncs.html)\n"
      ]
    },
    {
      "cell_type": "markdown",
      "metadata": {
        "id": "8_wzGXbuW3oZ"
      },
      "source": [
        "Obtener la suma de todos los valores en la matriz **mat**"
      ]
    },
    {
      "cell_type": "code",
      "metadata": {
        "id": "aEXtxv_hW3oa",
        "colab": {
          "base_uri": "https://localhost:8080/"
        },
        "outputId": "f2d23bbb-54be-4292-b35d-732cc1b26dc8"
      },
      "source": [
        "np.sum(arr)"
      ],
      "execution_count": null,
      "outputs": [
        {
          "output_type": "execute_result",
          "data": {
            "text/plain": [
              "325"
            ]
          },
          "metadata": {
            "tags": []
          },
          "execution_count": 80
        }
      ]
    },
    {
      "cell_type": "markdown",
      "metadata": {
        "id": "di_aCFvuW3od"
      },
      "source": [
        "Obtener la desviación estándar de la matriz **mat**"
      ]
    },
    {
      "cell_type": "code",
      "metadata": {
        "id": "qQ0YPReXW3oe",
        "colab": {
          "base_uri": "https://localhost:8080/"
        },
        "outputId": "f251bafe-faa5-42de-ac7a-c188ea9d2ea8"
      },
      "source": [
        "np.std(arr)"
      ],
      "execution_count": null,
      "outputs": [
        {
          "output_type": "execute_result",
          "data": {
            "text/plain": [
              "7.211102550927978"
            ]
          },
          "metadata": {
            "tags": []
          },
          "execution_count": 81
        }
      ]
    },
    {
      "cell_type": "markdown",
      "metadata": {
        "id": "tGFNA-gUW3oh"
      },
      "source": [
        "Obtener la suma de cada una de las columnas en  la matriz **mat**"
      ]
    },
    {
      "cell_type": "code",
      "metadata": {
        "id": "vUE9AqkQW3oi",
        "colab": {
          "base_uri": "https://localhost:8080/"
        },
        "outputId": "7132af9b-f261-43d0-d2b8-902eefae2e9a"
      },
      "source": [
        "np.sum(arr, axis = 0)"
      ],
      "execution_count": null,
      "outputs": [
        {
          "output_type": "execute_result",
          "data": {
            "text/plain": [
              "array([55, 60, 65, 70, 75])"
            ]
          },
          "metadata": {
            "tags": []
          },
          "execution_count": 85
        }
      ]
    },
    {
      "cell_type": "markdown",
      "metadata": {
        "collapsed": true,
        "id": "eOASzWtIW3on"
      },
      "source": [
        "# Buen trabajo "
      ]
    },
    {
      "cell_type": "code",
      "metadata": {
        "id": "_43iMEwJW3oo"
      },
      "source": [
        ""
      ],
      "execution_count": null,
      "outputs": []
    }
  ]
}